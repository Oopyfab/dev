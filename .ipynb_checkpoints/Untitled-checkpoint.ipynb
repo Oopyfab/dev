{
 "cells": [
  {
   "cell_type": "code",
   "execution_count": 1,
   "id": "c9052dac",
   "metadata": {},
   "outputs": [],
   "source": [
    "def even_num(num):\n",
    "    if num%2==0:\n",
    "        print ('even')\n",
    "    else:\n",
    "        print('odd')"
   ]
  },
  {
   "cell_type": "code",
   "execution_count": null,
   "id": "9a683b5b",
   "metadata": {},
   "outputs": [],
   "source": [
    "even_num"
   ]
  },
  {
   "cell_type": "code",
   "execution_count": null,
   "id": "c45eabb3",
   "metadata": {},
   "outputs": [],
   "source": [
    "def prime(num):\n",
    "    for i in range (1, num):\n",
    "        if num%i==0:\n",
    "            count=count +1\n",
    "    if count==1:\n",
    "        print('prime')\n",
    "    else:"
   ]
  }
 ],
 "metadata": {
  "kernelspec": {
   "display_name": "Python 3 (ipykernel)",
   "language": "python",
   "name": "python3"
  },
  "language_info": {
   "codemirror_mode": {
    "name": "ipython",
    "version": 3
   },
   "file_extension": ".py",
   "mimetype": "text/x-python",
   "name": "python",
   "nbconvert_exporter": "python",
   "pygments_lexer": "ipython3",
   "version": "3.10.9"
  }
 },
 "nbformat": 4,
 "nbformat_minor": 5
}
